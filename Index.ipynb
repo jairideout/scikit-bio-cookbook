{
 "cells": [
  {
   "cell_type": "markdown",
   "metadata": {},
   "source": [
    "# The [scikit-bio](http://scikit-bio.org) cookbook: delicious and nutritious bioinformatics recipes"
   ]
  },
  {
   "cell_type": "markdown",
   "metadata": {},
   "source": [
    "<div style=\"float: right; margin-left: 30px;\"><img title=\"scikit-bio cookbook\" style=\"float: right;margin-left: 30px;\" src=\"assets/skbio-cookbook.png\" align=right height=300/></div>\n",
    "\n",
    "This series of Jupyter Notebooks contains executable \"recipes\" for bioinformatics workflows using [scikit-bio](http://scikit-bio.org).\n",
    "\n",
    "Readers interested in gaining more background information on bioinformatics may want to start with [An Introduction to Applied Bioinformatics](http://readiab.org/), which makes extensive use of scikit-bio to teach concepts in bioinformatics.\n",
    "\n",
    "**This is not the main scikit-bio documentation.** You can find the latest scikit-bio API documentation [here](http://scikit-bio.org/docs/latest/).\n",
    "\n",
    "These notebooks are only tested to work with **scikit-bio 0.5.0**, which **requires Python 3.4 or later**. The notebooks may not work with other versions of scikit-bio. Click [here](http://scikit-bio.org/docs/0.5.0/index.html) to view scikit-bio 0.5.0 API documentation."
   ]
  },
  {
   "cell_type": "markdown",
   "metadata": {},
   "source": [
    "## Reading the scikit-bio cookbook"
   ]
  },
  {
   "cell_type": "markdown",
   "metadata": {},
   "source": [
    "There are two ways to read the scikit-bio cookbook. \n",
    "\n",
    "The **easiest way** is to read the [static online version](http://nbviewer.jupyter.org/github/biocore/scikit-bio-cookbook/blob/master/Index.ipynb).\n",
    "\n",
    "The **recommended way** is to install the interactive version and read it locally. This will let you exectute and experiment with the recipes from within your web browser. To view and interact with the notebooks, you'll need Python 3.4 or later, scikit-bio 0.5.0, and the Jupyter Notebook installed.\n",
    "\n",
    "The easiest and recommended way to install these dependencies is via the ``conda`` package manager available in [Anaconda](http://continuum.io/downloads) or [miniconda](http://conda.pydata.org/miniconda.html). Once you have ``conda`` installed, create a new environment with the following packages:\n",
    "\n",
    "    conda create -c https://conda.anaconda.org/biocore -n scikit-bio-cookbook python=3.5 scikit-bio=0.5.0 jupyter requests\n",
    "\n",
    "Activate the environment:\n",
    "\n",
    "    source activate scikit-bio-cookbook\n",
    "    \n",
    "Install ete3 with pip, necessary for visualizing trees in some of the recipes:\n",
    "\n",
    "    pip install ete3\n",
    "    \n",
    "Next, you'll need to download the scikit-bio cookbook. We recommend pulling the latest version from GitHub (you may need to install ``git`` first), and then changing to the new directory that is created:\n",
    "\n",
    "    git clone https://github.com/biocore/scikit-bio-cookbook.git\n",
    "    cd scikit-bio-cookbook\n",
    "\n",
    "Finally, start the Jupyter Notebook server:\n",
    "\n",
    "    jupyter notebook Index.ipynb"
   ]
  },
  {
   "cell_type": "code",
   "execution_count": 1,
   "metadata": {
    "collapsed": false,
    "scrolled": true
   },
   "outputs": [
    {
     "data": {
      "text/html": [
       "<h2>Table of Contents</h2><p>\n",
       "<li><a href='Alignment viewing and filtering.ipynb'  target='_blank'>Alignment viewing and filtering</a></li>\n",
       "<li><a href='Alignments and phylogenetic reconstruction.ipynb'  target='_blank'>Alignments and phylogenetic reconstruction</a></li>\n",
       "<li><a href='Computing pairwise sequence identity.ipynb'  target='_blank'>Computing pairwise sequence identity</a></li>\n",
       "<li><a href='Creating a region-specific reference collection from full-length reference sequences.ipynb'  target='_blank'>Creating a region-specific reference collection from full-length reference sequences</a></li>\n",
       "<li><a href='Exploring microbial community diversity.ipynb'  target='_blank'>Exploring microbial community diversity</a></li>\n",
       "<li><a href='Finding PCR primers in sequencing products.ipynb'  target='_blank'>Finding PCR primers in sequencing products</a></li>\n",
       "<li><a href='Finding the longest stretch of specific characters in a DNA sequence.ipynb'  target='_blank'>Finding the longest stretch of specific characters in a DNA sequence</a></li>\n",
       "<li><a href='Phylogenetic diversity calculations.ipynb'  target='_blank'>Phylogenetic diversity calculations</a></li>\n",
       "<li><a href='Progressive multiple sequence alignment.ipynb'  target='_blank'>Progressive multiple sequence alignment</a></li>\n",
       "<li><a href='Reading and writing files.ipynb'  target='_blank'>Reading and writing files</a></li>\n",
       "<li><a href='Six-frame translation of nucleotide sequences.ipynb'  target='_blank'>Six-frame translation of nucleotide sequences</a></li>\n",
       "<li><a href='Using the workflow to automate remote database queries.ipynb'  target='_blank'>Using the workflow to automate remote database queries</a></li>"
      ],
      "text/plain": [
       "<IPython.core.display.HTML object>"
      ]
     },
     "execution_count": 1,
     "metadata": {},
     "output_type": "execute_result"
    }
   ],
   "source": [
    "# Ignore this code, it is necessary to display the table of contents below.\n",
    "from skbiocookbook import cookbook_toc\n",
    "from IPython.display import HTML\n",
    "HTML(cookbook_toc())"
   ]
  },
  {
   "cell_type": "markdown",
   "metadata": {},
   "source": [
    "<img title=\"Powered by scikit-bio\" src=\"https://raw.githubusercontent.com/biocore/scikit-bio/master/assets/horizontal_powered_by.png\" align=center height=50/>\n"
   ]
  }
 ],
 "metadata": {
  "kernelspec": {
   "display_name": "Python 3",
   "language": "python",
   "name": "python3"
  },
  "language_info": {
   "codemirror_mode": {
    "name": "ipython",
    "version": 3
   },
   "file_extension": ".py",
   "mimetype": "text/x-python",
   "name": "python",
   "nbconvert_exporter": "python",
   "pygments_lexer": "ipython3",
   "version": "3.5.1"
  }
 },
 "nbformat": 4,
 "nbformat_minor": 0
}
