{
 "cells": [
  {
   "cell_type": "markdown",
   "metadata": {},
   "source": [
    "scikit-bio 0.2.1 introduced the [I/O registry](http://scikit-bio.org/docs/0.5.0/io.html), which provides unified input and output (I/O). Previously, there were many ways to read and write various file formats into and out of scikit-bio objects. The scikit-bio I/O registry provides a single entry point to all I/O using a simple procedural interface. Additionally, the registry dynamically generates an equivalent object-oriented API for any scikit-bio object that can be serialized or deserialized (i.e., written to or read from a file). Finally, the registry supports automatic file format detection via file sniffers. See the [``skbio.io`` docs](http://scikit-bio.org/docs/0.5.0/io.html) for more details on the I/O registry and the benefits it provides.\n",
    "\n",
    "We will explore some of the features provided by the I/O registry in the following examples."
   ]
  },
  {
   "cell_type": "markdown",
   "metadata": {},
   "source": [
    "## Procedural and object-oriented API"
   ]
  },
  {
   "cell_type": "markdown",
   "metadata": {},
   "source": [
    "scikit-bio provides a simple procedural and object-oriented (OO) API for performing file I/O. Both APIs produce the same results and are provided for convenience to the user. Every scikit-bio object that can be read into has a `read` method, and every object that can be written from has a `write` method. These methods and their documentation are *automatically generated* by the I/O registry at runtime!\n",
    "\n",
    "For example, let's read a [Newick](http://scikit-bio.org/docs/0.5.0/generated/skbio.io.format.newick.html) file (taken from [Greengenes](http://www.ncbi.nlm.nih.gov/pubmed/22134646) version `13_8`, 61% OTUs) using the procedural API ([skbio.io.read](http://scikit-bio.org/docs/0.5.0/generated/skbio.io.registry.read.html#skbio.io.registry.read)):"
   ]
  },
  {
   "cell_type": "code",
   "execution_count": 1,
   "metadata": {
    "collapsed": false,
    "internals": {
     "slide_helper": "subslide_end"
    },
    "slide_helper": "slide_end",
    "slideshow": {
     "slide_type": "-"
    }
   },
   "outputs": [],
   "source": [
    "import skbio.io\n",
    "from skbio import TreeNode\n",
    "tree_1 = skbio.io.read('data/61_otus.tree', format='newick', into=TreeNode)"
   ]
  },
  {
   "cell_type": "markdown",
   "metadata": {},
   "source": [
    "Let's now read the same file using the equivalent OO API ([TreeNode.read](http://scikit-bio.org/docs/0.5.0/generated/skbio.tree.TreeNode.read.html#skbio.tree.TreeNode.read)):"
   ]
  },
  {
   "cell_type": "code",
   "execution_count": 2,
   "metadata": {
    "collapsed": false
   },
   "outputs": [],
   "source": [
    "tree_2 = TreeNode.read('data/61_otus.tree', format='newick')"
   ]
  },
  {
   "cell_type": "markdown",
   "metadata": {},
   "source": [
    "We obtain equivalent in-memory `TreeNode` objects:"
   ]
  },
  {
   "cell_type": "code",
   "execution_count": 3,
   "metadata": {
    "collapsed": false
   },
   "outputs": [
    {
     "data": {
      "text/plain": [
       "<TreeNode, name: unnamed, internal node count: 20, tips count: 22>"
      ]
     },
     "execution_count": 3,
     "metadata": {},
     "output_type": "execute_result"
    }
   ],
   "source": [
    "tree_1"
   ]
  },
  {
   "cell_type": "code",
   "execution_count": 4,
   "metadata": {
    "collapsed": false
   },
   "outputs": [
    {
     "data": {
      "text/plain": [
       "<TreeNode, name: unnamed, internal node count: 20, tips count: 22>"
      ]
     },
     "execution_count": 4,
     "metadata": {},
     "output_type": "execute_result"
    }
   ],
   "source": [
    "tree_2"
   ]
  },
  {
   "cell_type": "markdown",
   "metadata": {},
   "source": [
    "**Note:** ``TreeNode`` currently does not have ``__eq__``/``equals`` methods, which is why we aren't performing a direct equality comparison here. See [#465](https://github.com/biocore/scikit-bio/issues/465) to track progress on this."
   ]
  },
  {
   "cell_type": "markdown",
   "metadata": {},
   "source": [
    "## Sniffers"
   ]
  },
  {
   "cell_type": "markdown",
   "metadata": {},
   "source": [
    "What if you don't know the format of a file? The I/O registry provides *file sniffers*, which attempt to determine a file's format by inspecting the beginning of a file.\n",
    "\n",
    "For example, suppose we have a file whose format is unknown. To sniff its format:"
   ]
  },
  {
   "cell_type": "code",
   "execution_count": 5,
   "metadata": {
    "collapsed": false,
    "internals": {},
    "slideshow": {
     "slide_type": "-"
    }
   },
   "outputs": [
    {
     "data": {
      "text/plain": [
       "('ordination', {})"
      ]
     },
     "execution_count": 5,
     "metadata": {},
     "output_type": "execute_result"
    }
   ],
   "source": [
    "from skbio.io import sniff\n",
    "sniff('data/unknown_file_1')"
   ]
  },
  {
   "cell_type": "markdown",
   "metadata": {},
   "source": [
    "The sniffer returns a tuple containing the format name and parameters (kwargs), respectively. Format parameters may be returned if the sniffer thinks they are necessary to correctly read the file in the sniffed format.\n",
    "\n",
    "In the above example, the sniffer guessed the file format to be [ordination](http://scikit-bio.org/docs/0.5.0/generated/skbio.io.format.ordination.html). It did not guess any format parameters, which is correct because there are none for the format."
   ]
  },
  {
   "cell_type": "markdown",
   "metadata": {},
   "source": [
    "Not every file can be identified by the sniffer. For example, let's try to sniff another unknown file:"
   ]
  },
  {
   "cell_type": "code",
   "execution_count": 6,
   "metadata": {
    "collapsed": false,
    "internals": {},
    "slideshow": {
     "slide_type": "-"
    }
   },
   "outputs": [
    {
     "name": "stdout",
     "output_type": "stream",
     "text": [
      "Could not detect the format of 'data/unknown_file_2'\n"
     ]
    }
   ],
   "source": [
    "from skbio.io import UnrecognizedFormatError\n",
    "try:\n",
    "    sniff('data/unknown_file_2')\n",
    "except UnrecognizedFormatError as e:\n",
    "    print(e)"
   ]
  },
  {
   "cell_type": "markdown",
   "metadata": {},
   "source": [
    "The sniffer raised an `UnrecognizedFormatError` because it could not identify the file's format (which was intentionally meaningless). A special case of a file that is especially meaningless is the empty file. Sniffing an empty file returns the following:"
   ]
  },
  {
   "cell_type": "code",
   "execution_count": 7,
   "metadata": {
    "collapsed": false,
    "internals": {},
    "slideshow": {
     "slide_type": "-"
    }
   },
   "outputs": [
    {
     "data": {
      "text/plain": [
       "('<emptyfile>', {})"
      ]
     },
     "execution_count": 7,
     "metadata": {},
     "output_type": "execute_result"
    }
   ],
   "source": [
    "sniff('data/unknown_file_3')"
   ]
  },
  {
   "cell_type": "markdown",
   "metadata": {},
   "source": [
    "This information can be especially helpful in error messages, when users may have inadvertently created an empty file.\n",
    "\n",
    "As previously mentioned, sniffers may return format parameters as kwargs. For example, let's try sniffing another unknown file:"
   ]
  },
  {
   "cell_type": "code",
   "execution_count": 8,
   "metadata": {
    "collapsed": false,
    "internals": {
     "slide_helper": "subslide_end"
    },
    "slide_helper": "slide_end",
    "slideshow": {
     "slide_type": "-"
    }
   },
   "outputs": [
    {
     "data": {
      "text/plain": [
       "('lsmat', {'delimiter': ','})"
      ]
     },
     "execution_count": 8,
     "metadata": {},
     "output_type": "execute_result"
    }
   ],
   "source": [
    "sniff('data/unknown_file_4')"
   ]
  },
  {
   "cell_type": "markdown",
   "metadata": {},
   "source": [
    "The sniffer identified the file as being in [lsmat](http://scikit-bio.org/docs/0.5.0/generated/skbio.io.format.lsmat.html) format. It also recommends using a comma as the delimiter when reading the file. This differs from the default delimiter, which is the tab character.\n",
    "\n",
    "Let's try reading this lsmat-formatted file into a `DistanceMatrix` object:"
   ]
  },
  {
   "cell_type": "code",
   "execution_count": 9,
   "metadata": {
    "collapsed": false
   },
   "outputs": [
    {
     "name": "stdout",
     "output_type": "stream",
     "text": [
      "3x3 distance matrix\n",
      "IDs:\n",
      "'a', 'b', 'c'\n",
      "Data:\n",
      "[[  0.00000000e+00   1.00000000e-02   4.20000000e+00]\n",
      " [  1.00000000e-02   0.00000000e+00   1.20000000e+01]\n",
      " [  4.20000000e+00   1.20000000e+01   0.00000000e+00]]\n"
     ]
    }
   ],
   "source": [
    "from skbio import DistanceMatrix\n",
    "dm = DistanceMatrix.read('data/unknown_file_4')\n",
    "print(dm)"
   ]
  },
  {
   "cell_type": "markdown",
   "metadata": {},
   "source": [
    "Note that we didn't have to specify `delimiter=','` in the `DistanceMatrix.read` call because the sniffer is invoked automatically and its recommendations are used by the reader (this can be disabled by explicitly providing the format name and passing `verify=False`).\n",
    "\n",
    "We can override the sniffer's recommendations by passing our own delimiter:"
   ]
  },
  {
   "cell_type": "code",
   "execution_count": 10,
   "metadata": {
    "collapsed": false
   },
   "outputs": [
    {
     "name": "stdout",
     "output_type": "stream",
     "text": [
      "Header must start with delimiter '\\t'.\n"
     ]
    },
    {
     "name": "stderr",
     "output_type": "stream",
     "text": [
      "/home/evan/biocore/scikit-bio/skbio/io/registry.py:557: ArgumentOverrideWarning: Best guess was: delimiter=',', continuing with user supplied: '\\t'\n",
      "  ArgumentOverrideWarning)\n"
     ]
    }
   ],
   "source": [
    "from skbio import DistanceMatrix\n",
    "from skbio.io import LSMatFormatError\n",
    "\n",
    "try:\n",
    "    DistanceMatrix.read('data/unknown_file_4', delimiter='\\t')\n",
    "except LSMatFormatError as e:\n",
    "    print(e)"
   ]
  },
  {
   "cell_type": "markdown",
   "metadata": {},
   "source": [
    "Note that we receive a warning stating that the sniffer's recommendations are being ignored in favor of our input. In this case, the lsmat file cannot be successfully read using a tab as the delimiter."
   ]
  },
  {
   "cell_type": "markdown",
   "metadata": {},
   "source": [
    "## Streaming files to a different format"
   ]
  },
  {
   "cell_type": "markdown",
   "metadata": {},
   "source": [
    "The previous examples showed how to read a file into an object that is represented entirely in memory. In some cases, this is infeasible because you may not have enough memory to store all of the file's contents at once (e.g., reading a 10GB FASTA file on a computer with only 2GB of RAM).\n",
    "\n",
    "To address this issue, scikit-bio's I/O registry provides a *streaming* interface via its procedural [skbio.io.read](http://scikit-bio.org/docs/0.5.0/generated/skbio.io.registry.read.html) and [skbio.io.write](http://scikit-bio.org/docs/0.5.0/skbio.io.registry.write.html) functions. When using a streaming reader, pieces of the parsed file are yielded on demand using a Python [generator](https://wiki.python.org/moin/Generators). For example, streaming a FASTA file would yield a single `skbio.Sequence` (or subclass) object at a time instead of loading all sequences at once.\n",
    "\n",
    "To illustrate how this works, let's convert an Illumina 1.3 FASTQ file (old Illumina variant) into an Illumina 1.8 FASTQ file (current Illumina variant). This FASTQ file is a small subset (100 sequences) taken from the [Moving Pictures of the Human Microbiome](http://www.ncbi.nlm.nih.gov/pubmed/21624126) study. For more details on FASTQ variants (i.e., different quality score encoding schemes), see [skbio.io.fastq](http://scikit-bio.org/docs/0.5.0/generated/skbio.io.format.fastq.html).\n",
    "\n",
    "First let's create a streaming reader to yield each sequence in our input FASTQ file:"
   ]
  },
  {
   "cell_type": "code",
   "execution_count": 11,
   "metadata": {
    "collapsed": false,
    "internals": {
     "frag_helper": "fragment_end",
     "frag_number": 11
    },
    "slideshow": {
     "slide_type": "-"
    }
   },
   "outputs": [
    {
     "data": {
      "text/plain": [
       "<generator object <genexpr> at 0x7f9e0f3817e0>"
      ]
     },
     "execution_count": 11,
     "metadata": {},
     "output_type": "execute_result"
    }
   ],
   "source": [
    "seq_gen = skbio.io.read('data/moving_pictures_subset_100.fastq',\n",
    "                        format='fastq',\n",
    "                        variant='illumina1.3')\n",
    "seq_gen"
   ]
  },
  {
   "cell_type": "markdown",
   "metadata": {},
   "source": [
    "Note that nothing has been loaded into memory from disk at this point because `seq_gen` is a generator. We can pass this generator to `skbio.io.write` to have it write a single sequence at a time in the Illumina 1.8 FASTQ variant:"
   ]
  },
  {
   "cell_type": "code",
   "execution_count": 12,
   "metadata": {
    "collapsed": false,
    "internals": {},
    "slideshow": {
     "slide_type": "-"
    }
   },
   "outputs": [
    {
     "data": {
      "text/plain": [
       "'data/moving_pictures_subset_100_illumina1.8.fastq'"
      ]
     },
     "execution_count": 12,
     "metadata": {},
     "output_type": "execute_result"
    }
   ],
   "source": [
    "skbio.io.write(seq_gen,\n",
    "               into='data/moving_pictures_subset_100_illumina1.8.fastq',\n",
    "               format='fastq', \n",
    "               variant='illumina1.8')"
   ]
  },
  {
   "cell_type": "markdown",
   "metadata": {},
   "source": [
    "Note that since both streaming readers *and* writers were used, only a single biological sequence was ever loaded into memory at any given point in time.\n",
    "\n",
    "Examining the original and converted FASTQ files shows that the quality scores are encoded differently:"
   ]
  },
  {
   "cell_type": "code",
   "execution_count": 13,
   "metadata": {
    "collapsed": false
   },
   "outputs": [
    {
     "name": "stdout",
     "output_type": "stream",
     "text": [
      "@HWI-EAS440_0386:1:23:17547:1423#0/1\r\n",
      "TACGNAGGATCCGAGCGTTATCCGGATTTATTGGGTTTAAAGGGAGCGTAGATGGATGTTTAAGTCAGTTGTGAAAGTTTGCGGCTCAACCGTAAAATTGCAGTTGATACTGGATATCTTGAGTGCAGTTGAGGCAGGGGGGGATTGGTGTG\r\n",
      "+HWI-EAS440_0386:1:23:17547:1423#0/1\r\n",
      "hhhdHddddddddfehhfhhhghggfhhhfhhgggfhhgfgdfcfhehfdgfhggfggfggffgddfgdffdgdaagaaddcbdccc]a^ad__a]_____ba_`a`__^__\\]^OWZR\\Z\\\\WYTZ_U^BBBBBBBBBBBBBBBBBBBBBB\r\n"
     ]
    }
   ],
   "source": [
    "!head -4 data/moving_pictures_subset_100.fastq"
   ]
  },
  {
   "cell_type": "code",
   "execution_count": 14,
   "metadata": {
    "collapsed": false
   },
   "outputs": [
    {
     "name": "stdout",
     "output_type": "stream",
     "text": [
      "@HWI-EAS440_0386:1:23:17547:1423#0/1\r\n",
      "TACGNAGGATCCGAGCGTTATCCGGATTTATTGGGTTTAAAGGGAGCGTAGATGGATGTTTAAGTCAGTTGTGAAAGTTTGCGGCTCAACCGTAAAATTGCAGTTGATACTGGATATCTTGAGTGCAGTTGAGGCAGGGGGGGATTGGTGTG\r\n",
      "+\r\n",
      "IIIE)EEEEEEEEGFIIGIIIHIHHGIIIGIIHHHGIIHGHEGDGIFIGEHGIHHGHHGHHGGHEEGHEGGEHEBBHBBEEDCEDDD>B?BE@@B>@@@@@CB@ABA@@?@@=>?08;3=;==8:5;@6?######################\r\n"
     ]
    }
   ],
   "source": [
    "!head -4 data/moving_pictures_subset_100_illumina1.8.fastq"
   ]
  },
  {
   "cell_type": "markdown",
   "metadata": {},
   "source": [
    "## Streaming [QSeq](http://scikit-bio.org/docs/0.5.0/generated/skbio.io.format.qseq.html) to [FASTQ](http://scikit-bio.org/docs/0.5.0/generated/skbio.io.format.fastq.html) variants"
   ]
  },
  {
   "cell_type": "markdown",
   "metadata": {},
   "source": [
    "Building on the previous example, let's see a more complex example where we convert a [QSeq](http://scikit-bio.org/docs/0.5.0/generated/skbio.io.format.qseq.html) file into every [FASTQ](http://scikit-bio.org/docs/0.5.0/generated/skbio.io.format.fastq.html) variant supported by scikit-bio: Sanger, Illumina 1.3, and Illumina 1.8. The QSeq file contains a subset of the sequences in the [Ultra-high-throughput microbial community analysis on the Illumina HiSeq and MiSeq platforms](http://www.nature.com/ismej/journal/v6/n8/full/ismej20128a.html) study. Its quality scores are encoded using the Illumina 1.3 variant.\n",
    "\n",
    "**Note:** scikit-bio does not currently support the Solexa FASTQ variant. See [#719](https://github.com/biocore/scikit-bio/issues/719) to track progress on this.\n",
    "\n",
    "For each supported variant, we create a streaming reader on the source QSeq file and feed the reader to a streaming writer, supplying the desired variant to convert to:"
   ]
  },
  {
   "cell_type": "code",
   "execution_count": 15,
   "metadata": {
    "collapsed": false
   },
   "outputs": [],
   "source": [
    "for variant in 'sanger', 'illumina1.3', 'illumina1.8':\n",
    "    qseq_gen = skbio.io.read('data/s_1_1_0001_qseq.txt', \n",
    "                             format='qseq',\n",
    "                             filter=True,\n",
    "                             variant='illumina1.3')\n",
    "    skbio.io.write(qseq_gen, \n",
    "                   into='data/s_1_1_0001_%s.fastq' % variant, \n",
    "                   format='fastq',\n",
    "                   variant=variant)"
   ]
  },
  {
   "cell_type": "markdown",
   "metadata": {},
   "source": [
    "Note that we passed `filter=True` when reading the source QSeq file, which filters out sequences that didn't pass CASAVA's filter. This is the QSeq reader's default behavior, but we provide it for explicitness. Thus, the converted FASTQ files will have fewer sequences than the source QSeq file (pass `filter=False` to retain and convert *all* sequences).\n",
    "\n",
    "Examining the converted FASTQ files shows that the quality scores are encoded differently, but the IDs and sequence data are identical:"
   ]
  },
  {
   "cell_type": "code",
   "execution_count": 16,
   "metadata": {
    "collapsed": false
   },
   "outputs": [
    {
     "name": "stdout",
     "output_type": "stream",
     "text": [
      "@M10_68:1:1:19607:29475#0/1\r\n",
      "GACATAAGGGTGGTTAGTATACCGGCAAGGACGGGGTTACTAGTGACGTCCTTCCCCGTATGCCGGGCAATAATGTTTATGTTGGTTTCATGGTTTGGTCTAACTTTACCGCTACTAAATGCTGCGGATTGGTTTCGCTGAATCAGATTATT\r\n",
      "+\r\n",
      "Z__c\\JQ`cc[[_[bfff[[`Qbdge_YYOOHO^cF[FUb_VHMHV`T`dBBBBBBBBBBBBBBBBBBBBBBBBBBBBBBBBBBBBBBBBBBBBBBBBBBBBBBBBBBBBBBBBBBBBBBBBBBBBBBBBBBBBBBBBBBBBBBBBBBBBBB\r\n"
     ]
    }
   ],
   "source": [
    "!head -4 data/s_1_1_0001_illumina1.3.fastq"
   ]
  },
  {
   "cell_type": "code",
   "execution_count": 17,
   "metadata": {
    "collapsed": false
   },
   "outputs": [
    {
     "name": "stdout",
     "output_type": "stream",
     "text": [
      "@M10_68:1:1:19607:29475#0/1\r\n",
      "GACATAAGGGTGGTTAGTATACCGGCAAGGACGGGGTTACTAGTGACGTCCTTCCCCGTATGCCGGGCAATAATGTTTATGTTGGTTTCATGGTTTGGTCTAACTTTACCGCTACTAAATGCTGCGGATTGGTTTCGCTGAATCAGATTATT\r\n",
      "+\r\n",
      ";@@D=+2ADD<<@<CGGG<<A2CEHF@::00)0?D'<'6C@7).)7A5AE######################################################################################################\r\n"
     ]
    }
   ],
   "source": [
    "!head -4 data/s_1_1_0001_illumina1.8.fastq"
   ]
  },
  {
   "cell_type": "code",
   "execution_count": 18,
   "metadata": {
    "collapsed": false
   },
   "outputs": [
    {
     "name": "stdout",
     "output_type": "stream",
     "text": [
      "@M10_68:1:1:19607:29475#0/1\r\n",
      "GACATAAGGGTGGTTAGTATACCGGCAAGGACGGGGTTACTAGTGACGTCCTTCCCCGTATGCCGGGCAATAATGTTTATGTTGGTTTCATGGTTTGGTCTAACTTTACCGCTACTAAATGCTGCGGATTGGTTTCGCTGAATCAGATTATT\r\n",
      "+\r\n",
      ";@@D=+2ADD<<@<CGGG<<A2CEHF@::00)0?D'<'6C@7).)7A5AE######################################################################################################\r\n"
     ]
    }
   ],
   "source": [
    "!head -4 data/s_1_1_0001_sanger.fastq"
   ]
  },
  {
   "cell_type": "markdown",
   "metadata": {},
   "source": [
    "Note that the encoded quality scores are the same for Illumina 1.8 and Sanger because both encoding schemes use the same Phred offset (but they have different [valid ranges](http://scikit-bio.org/docs/0.5.0/generated/skbio.io.format.fastq.html#quality-score-variants)).\n",
    "\n",
    "Next, let's read the original QSeq file and each of the converted FASTQ files into `list` objects:"
   ]
  },
  {
   "cell_type": "code",
   "execution_count": 19,
   "metadata": {
    "collapsed": false
   },
   "outputs": [],
   "source": [
    "sc_original = list(skbio.io.read('data/s_1_1_0001_qseq.txt', format='qseq', variant='illumina1.3'))\n",
    "sc_illumina13 = list(skbio.io.read('data/s_1_1_0001_illumina1.3.fastq', format='fastq', variant='illumina1.3'))\n",
    "sc_illumina18 = list(skbio.io.read('data/s_1_1_0001_illumina1.8.fastq', format='fastq', variant='illumina1.8'))\n",
    "sc_sanger = list(skbio.io.read('data/s_1_1_0001_sanger.fastq', format='fastq', variant='sanger'))"
   ]
  },
  {
   "cell_type": "markdown",
   "metadata": {},
   "source": [
    "To verify that the quality scores of each are equal, we define a testing function:"
   ]
  },
  {
   "cell_type": "code",
   "execution_count": 20,
   "metadata": {
    "collapsed": false
   },
   "outputs": [],
   "source": [
    "import itertools\n",
    "\n",
    "def quality_scores_all_equal(*lists):\n",
    "    for l1, l2 in itertools.combinations(lists, 2):\n",
    "        for s1, s2 in zip(l1, l2):\n",
    "            if (s1.positional_metadata['quality'] != s2.positional_metadata['quality']).any():\n",
    "                return False\n",
    "    return True"
   ]
  },
  {
   "cell_type": "markdown",
   "metadata": {},
   "source": [
    "We see that all lists of sequences are equal, even though their quality scores have been stored on disk using different encoding schemes. The in-memory representations of the Phred quality scores are identical!"
   ]
  },
  {
   "cell_type": "code",
   "execution_count": 21,
   "metadata": {
    "collapsed": false
   },
   "outputs": [
    {
     "data": {
      "text/plain": [
       "True"
      ]
     },
     "execution_count": 21,
     "metadata": {},
     "output_type": "execute_result"
    }
   ],
   "source": [
    "quality_scores_all_equal(sc_original, sc_illumina13, sc_illumina18, sc_sanger)"
   ]
  },
  {
   "cell_type": "markdown",
   "metadata": {},
   "source": [
    "## Writing to [FASTA/QUAL](http://scikit-bio.org/docs/0.5.0/generated/skbio.io.format.fasta.html)"
   ]
  },
  {
   "cell_type": "markdown",
   "metadata": {},
   "source": [
    "As a final example, let's write one of our existing `SequenceCollection`s in [FASTA/QUAL](http://scikit-bio.org/docs/0.5.0/generated/skbio.io.format.fasta.html) format. This example is different from what we've seen so far because the file format involves more than a single file (sequence data is stored in a FASTA file, and quality scores are stored in a QUAL file).\n",
    "\n",
    "We simply provide two filepaths when calling `write`:\n",
    "\n",
    "\n",
    "*Note: Currently skbio.io only supports generators, not iterables, see [#1031](https://github.com/biocore/scikit-bio/issues/1031) to track progress."
   ]
  },
  {
   "cell_type": "code",
   "execution_count": 22,
   "metadata": {
    "collapsed": false
   },
   "outputs": [
    {
     "data": {
      "text/plain": [
       "'data/s_1_1_0001.fasta'"
      ]
     },
     "execution_count": 22,
     "metadata": {},
     "output_type": "execute_result"
    }
   ],
   "source": [
    "generator = (x for x in sc_illumina13)\n",
    "skbio.io.write(generator, into='data/s_1_1_0001.fasta', qual='data/s_1_1_0001.qual', format='fasta')"
   ]
  },
  {
   "cell_type": "markdown",
   "metadata": {},
   "source": [
    "If we view the resulting FASTA and QUAL files, we see that the IDs, sequence data, and quality scores (now encoded as integer ASCII characters) match our previous results:"
   ]
  },
  {
   "cell_type": "code",
   "execution_count": 23,
   "metadata": {
    "collapsed": false
   },
   "outputs": [
    {
     "name": "stdout",
     "output_type": "stream",
     "text": [
      ">M10_68:1:1:19607:29475#0/1\r\n",
      "GACATAAGGGTGGTTAGTATACCGGCAAGGACGGGGTTACTAGTGACGTCCTTCCCCGTATGCCGGGCAATAATGTTTATGTTGGTTTCATGGTTTGGTCTAACTTTACCGCTACTAAATGCTGCGGATTGGTTTCGCTGAATCAGATTATT\r\n",
      ">M10_68:1:1:9095:29475#0/1\r\n",
      "GAATATCCTTAAGATGGCGTTCAGCAGCCCGCTTGCGGCCAAACTGCTTAACCGTCTTCTCGTTCTCTAAAAACCATTTTTCGTCCCCTTCGGGGCGGTGGTCTATAGTGTTATTAATATCAAGTTGGGGGAGCACATTGTAGCATTGTGCC\r\n"
     ]
    }
   ],
   "source": [
    "!head -4 data/s_1_1_0001.fasta"
   ]
  },
  {
   "cell_type": "code",
   "execution_count": 24,
   "metadata": {
    "collapsed": false
   },
   "outputs": [
    {
     "name": "stdout",
     "output_type": "stream",
     "text": [
      ">M10_68:1:1:19607:29475#0/1\r\n",
      "26 31 31 35 28 10 17 32 35 35 27 27 31 27 34 38 38 38 27 27 32 17 34 36 39 37 31 25 25 15 15 8 15 30 35 6 27 6 21 34 31 22 8 13 8 22 32 20 32 36 2 2 2 2 2 2 2 2 2 2 2 2 2 2 2 2 2 2 2 2 2 2 2 2 2 2 2 2 2 2 2 2 2 2 2 2 2 2 2 2 2 2 2 2 2 2 2 2 2 2 2 2 2 2 2 2 2 2 2 2 2 2 2 2 2 2 2 2 2 2 2 2 2 2 2 2 2 2 2 2 2 2 2 2 2 2 2 2 2 2 2 2 2 2 2 2 2 2 2 2 2 2\r\n",
      ">M10_68:1:1:9095:29475#0/1\r\n",
      "16 16 25 32 33 35 35 30 27 35 37 37 35 34 31 10 34 36 30 38 38 40 40 40 37 36 36 37 38 35 38 40 25 37 37 40 37 15 31 37 32 7 23 37 36 35 36 37 40 37 27 36 36 36 35 35 35 35 34 34 34 30 31 33 33 33 33 31 26 20 20 25 31 33 33 33 33 33 35 36 33 33 31 33 33 33 33 33 33 33 33 30 12 24 24 29 33 33 27 29 33 33 33 33 18 29 33 35 35 35 31 33 33 35 33 32 25 29 31 33 35 32 25 29 31 31 29 31 24 5 8 15 15 20 27 30 31 25 31 29 32 27 32 32 33 35 33 33 31 33 32 33\r\n"
     ]
    }
   ],
   "source": [
    "!head -4 data/s_1_1_0001.qual"
   ]
  }
 ],
 "metadata": {
  "kernelspec": {
   "display_name": "Python 3",
   "language": "python",
   "name": "python3"
  },
  "language_info": {
   "codemirror_mode": {
    "name": "ipython",
    "version": 3
   },
   "file_extension": ".py",
   "mimetype": "text/x-python",
   "name": "python",
   "nbconvert_exporter": "python",
   "pygments_lexer": "ipython3",
   "version": "3.5.1"
  }
 },
 "nbformat": 4,
 "nbformat_minor": 0
}
